{
 "cells": [
  {
   "cell_type": "markdown",
   "metadata": {},
   "source": [
    "### Analyzing the Stroop Effect\n",
    "Perform the analysis in the space below. Remember to follow [the instructions](https://docs.google.com/document/d/1-OkpZLjG_kX9J6LIQ5IltsqMzVWjh36QpnP2RYpVdPU/pub?embedded=True) and review the [project rubric](https://review.udacity.com/#!/rubrics/71/view) before submitting. Once you've completed the analysis and write up, download this file as a PDF or HTML file and submit in the final section of this lesson.\n",
    "\n",
    "\n",
    "(1) What is the independent variable? What is the dependent variable?"
   ]
  },
  {
   "cell_type": "markdown",
   "metadata": {},
   "source": [
    "Independent Variable: Stroop test(Congruent Words and Incongruent Words)\n",
    "Dependent Variable: Response time of each participant"
   ]
  },
  {
   "cell_type": "markdown",
   "metadata": {},
   "source": [
    "(2) What is an appropriate set of hypotheses for this task? Specify your null and alternative hypotheses, and clearly define any notation used. Justify your choices."
   ]
  },
  {
   "cell_type": "markdown",
   "metadata": {},
   "source": [
    "The appropriate hypothesis for this task is as follows:\n",
    "1. Null Hypothesis(H0): There is no significant difference between the response times for Congruent test and Incongruent            test.    i.e. ( μc = μi)\n",
    "2. Alternate Hypothesis (Ha): There is a significant difference between the response times for Congruent test and       Incongruent   test i.e. (μc != μi)\n",
    "\n",
    "Where :\n",
    "   μc = Population means for Congruent Words\n",
    "   μi = Population means for Incongruent Words\n",
    "\n",
    "In this case the participants are measured on the same dependent variable(response time) under two different conditions (Congruent Words and Incongruent Words),so to determine whether there is a statistically significant difference between these means, a paired t-test will be an appropriate statistical test to compare both means. "
   ]
  },
  {
   "cell_type": "markdown",
   "metadata": {},
   "source": [
    "(3) Report some descriptive statistics regarding this dataset. Include at least one measure of central tendency and at least one measure of variability. The name of the data file is 'stroopdata.csv'."
   ]
  },
  {
   "cell_type": "code",
   "execution_count": 3,
   "metadata": {},
   "outputs": [
    {
     "name": "stdout",
     "output_type": "stream",
     "text": [
      "Mean of each condition:\n",
      "Congruent: 14.051124999999999    Incongruent: 22.015916666666666\n",
      "\n",
      "Median of each condition:\n",
      "Congruent: 14.3565    Incongruent: 21.0175\n",
      "\n",
      "Standard Deviation for each condition:\n",
      "Congruent: 3.5593579576451955    Incongruent: 4.797057122469138\n"
     ]
    }
   ],
   "source": [
    "import pandas as pd\n",
    "\n",
    "sd = pd.read_csv('stroopdata.csv')\n",
    "\n",
    "#Calculating descriptive statistics for this dataset\n",
    "print(\"Mean of each condition:\")\n",
    "print (\"Congruent: {}    Incongruent: {}\". format(sd['Congruent'].mean(),sd['Incongruent'].mean()))\n",
    "\n",
    "print(\"\\nMedian of each condition:\")\n",
    "print (\"Congruent: {}    Incongruent: {}\".format(sd['Congruent'].median(),sd['Incongruent'].median()))\n",
    "\n",
    "print(\"\\nStandard Deviation for each condition:\")\n",
    "print (\"Congruent: {}    Incongruent: {}\".format(sd['Congruent'].std(),sd['Incongruent'].std()))"
   ]
  },
  {
   "cell_type": "markdown",
   "metadata": {},
   "source": [
    "Mean and median have larger difference in case Incongruent words, probably presence of outliers have strecthed the mean."
   ]
  },
  {
   "cell_type": "markdown",
   "metadata": {},
   "source": [
    "(4) Provide one or two visualizations that show the distribution of the sample data. Write one or two sentences noting what you observe about the plot or plots."
   ]
  },
  {
   "cell_type": "code",
   "execution_count": 4,
   "metadata": {},
   "outputs": [
    {
     "data": {
      "text/plain": [
       "<matplotlib.figure.Figure at 0x7f47c13a3c50>"
      ]
     },
     "metadata": {},
     "output_type": "display_data"
    }
   ],
   "source": [
    "import matplotlib.pyplot as plt\n",
    "\n",
    "plt.hist(sd['Congruent'], bins = 'auto')\n",
    "plt.title(\"Frequency of Congruent\")\n",
    "plt.xlabel(\"Response time for Congruent\")\n",
    "plt.ylabel('Frequency')\n",
    "plt.axvline(sd['Congruent'].mean() , color = 'g', linestyle = 'dashed', linewidth = 2)\n",
    "plt.axvline(sd['Congruent'].median() , color = 'y', linestyle = 'dashed', linewidth = 2)\n",
    "plt.show()"
   ]
  },
  {
   "cell_type": "code",
   "execution_count": 6,
   "metadata": {},
   "outputs": [
    {
     "data": {
      "image/png": "[encoded data removed]",
      "text/plain": [
       "<matplotlib.figure.Figure at 0x7faf89905630>"
      ]
     },
     "metadata": {},
     "output_type": "display_data"
    }
   ],
   "source": [
    "plt.hist(sd['Incongruent'], bins = 'auto')\n",
    "plt.title(\"Frequency of Congruent\")\n",
    "plt.xlabel(\"Response time for Incongruent\")\n",
    "plt.ylabel('Frequency')\n",
    "plt.axvline(sd['Incongruent'].mean() , color = 'g', linestyle = 'dashed', linewidth = 2)\n",
    "plt.axvline(sd['Incongruent'].median() , color = 'y', linestyle = 'dashed', linewidth = 2)\n",
    "plt.show()"
   ]
  },
  {
   "cell_type": "markdown",
   "metadata": {},
   "source": [
    "The Yellow dashed line represent the median of dataset and green dashed line represents mean for each dataset.\n",
    "It is clear from the plot that their are outliers in both datasets. There are more outliers present in case of Incongruent dataset.\n",
    "The Higher mean and median "
   ]
  },
  {
   "cell_type": "markdown",
   "metadata": {},
   "source": [
    "(5)  Now, perform the statistical test and report your results. What is your confidence level or Type I error associated with your test? What is your conclusion regarding the hypotheses you set up? Did the results match up with your expectations? **Hint:**  Think about what is being measured on each individual, and what statistic best captures how an individual reacts in each environment."
   ]
  },
  {
   "cell_type": "code",
   "execution_count": 5,
   "metadata": {},
   "outputs": [
    {
     "data": {
      "text/plain": [
       "Ttest_relResult(statistic=-8.020706944109957, pvalue=4.1030005857111781e-08)"
      ]
     },
     "execution_count": 5,
     "metadata": {},
     "output_type": "execute_result"
    }
   ],
   "source": [
    "# Perform the statistical test here\n",
    "stats.ttest_rel(sd['Congruent'], sd['Incongruent'])"
   ]
  },
  {
   "cell_type": "markdown",
   "metadata": {},
   "source": [
    "Since the original hypothesis does not state that the difference in population means should be positive or negative, we performed two-tailed test with alpha level of .025 and degree of freedom 23 which results in t-critical value of ±2.069.\n",
    "\n",
    "Above result shows that the t-statistic is -8.0207, that means we reject the null hypothese(μc = μi) and accept the alternative\n",
    "hypothesis that the population means for the Congruent Condition and Incongruent condition are not equal(μc != μi)"
   ]
  },
  {
   "cell_type": "markdown",
   "metadata": {},
   "source": [
    "(6) Optional: What do you think is responsible for the effects observed? Can you think of an alternative or similar task that would result in a similar effect? Some research about the problem will be helpful for thinking about these two questions!"
   ]
  },
  {
   "cell_type": "markdown",
   "metadata": {},
   "source": [
    "Parallel distributed processing could be responsible for the observed effects.\n",
    "\n",
    "This theory suggests that as the brain analyzes information, different and specific pathways are developed for different tasks. Some pathways, such as reading, are stronger than others, therefore, it is the strength of the pathway and not the speed of the pathway that is important. In addition, automaticity is a function of the strength of each pathway, hence, when two pathways are activated simultaneously in the Stroop effect, interference occurs between the stronger (word reading) path and the weaker (color naming) path, more specifically when the pathway that leads to the response is the weaker pathway."
   ]
  },
  {
   "cell_type": "code",
   "execution_count": null,
   "metadata": {},
   "outputs": [],
   "source": [
    "Resources referenced for this project:\n",
    "    1.^https://en.wikipedia.org/wiki/Null_hypothesis\n",
    "    2.^https://statistics.laerd.com/statistical-guides/dependent-t-test-statistical-guide.php\n",
    "    3.^http://psycnet.apa.org/doiLanding?doi=10.1037%2F0033-295X.97.3.332\n",
    "    4.^https://s3.amazonaws.com/udacity-hosted-downloads/t-table.jpg"
   ]
  }
 ],
 "metadata": {
  "kernelspec": {
   "display_name": "Python 3",
   "language": "python",
   "name": "python3"
  },
  "language_info": {
   "codemirror_mode": {
    "name": "ipython",
    "version": 3
   },
   "file_extension": ".py",
   "mimetype": "text/x-python",
   "name": "python",
   "nbconvert_exporter": "python",
   "pygments_lexer": "ipython3",
   "version": "3.6.3"
  }
 },
 "nbformat": 4,
 "nbformat_minor": 2
}
